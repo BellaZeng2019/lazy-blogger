{
  "nbformat": 4,
  "nbformat_minor": 0,
  "metadata": {
    "colab": {
      "name": "pianoclassifier_prod",
      "provenance": [],
      "toc_visible": true,
      "mount_file_id": "19nkDmhT4opBah0Xs8Hnd64hlV6xOx4dD",
      "authorship_tag": "ABX9TyOfi3Hwa11WoCYpsaUzfKsb",
      "include_colab_link": true
    },
    "kernelspec": {
      "name": "python3",
      "display_name": "Python 3"
    },
    "language_info": {
      "name": "python"
    },
    "accelerator": "GPU",
    "widgets": {
      "application/vnd.jupyter.widget-state+json": {
        "a6f56f65d8b24dbf83e44c3b33023c01": {
          "model_module": "@jupyter-widgets/controls",
          "model_name": "VBoxModel",
          "state": {
            "_view_name": "VBoxView",
            "_dom_classes": [],
            "_model_name": "VBoxModel",
            "_view_module": "@jupyter-widgets/controls",
            "_model_module_version": "1.5.0",
            "_view_count": null,
            "_view_module_version": "1.5.0",
            "box_style": "",
            "layout": "IPY_MODEL_46993136e5f34d80932eb79aa6d2e840",
            "_model_module": "@jupyter-widgets/controls",
            "children": [
              "IPY_MODEL_2d2f2ccf265946998b279601dec24918",
              "IPY_MODEL_cf41c8bc3f0d44ce91f8be4d12a8a363",
              "IPY_MODEL_6b5e9c160fb04009b211a0485a7971b0",
              "IPY_MODEL_c65fd3f2dda94306b54ce933dd7af3ca"
            ]
          }
        },
        "46993136e5f34d80932eb79aa6d2e840": {
          "model_module": "@jupyter-widgets/base",
          "model_name": "LayoutModel",
          "state": {
            "_view_name": "LayoutView",
            "grid_template_rows": null,
            "right": null,
            "justify_content": null,
            "_view_module": "@jupyter-widgets/base",
            "overflow": null,
            "_model_module_version": "1.2.0",
            "_view_count": null,
            "flex_flow": null,
            "width": null,
            "min_width": null,
            "border": null,
            "align_items": null,
            "bottom": null,
            "_model_module": "@jupyter-widgets/base",
            "top": null,
            "grid_column": null,
            "overflow_y": null,
            "overflow_x": null,
            "grid_auto_flow": null,
            "grid_area": null,
            "grid_template_columns": null,
            "flex": null,
            "_model_name": "LayoutModel",
            "justify_items": null,
            "grid_row": null,
            "max_height": null,
            "align_content": null,
            "visibility": null,
            "align_self": null,
            "height": null,
            "min_height": null,
            "padding": null,
            "grid_auto_rows": null,
            "grid_gap": null,
            "max_width": null,
            "order": null,
            "_view_module_version": "1.2.0",
            "grid_template_areas": null,
            "object_position": null,
            "object_fit": null,
            "grid_auto_columns": null,
            "margin": null,
            "display": null,
            "left": null
          }
        },
        "2d2f2ccf265946998b279601dec24918": {
          "model_module": "@jupyter-widgets/controls",
          "model_name": "LabelModel",
          "state": {
            "_view_name": "LabelView",
            "style": "IPY_MODEL_be62de80837245d0996c6039743a2ab6",
            "_dom_classes": [],
            "description": "",
            "_model_name": "LabelModel",
            "placeholder": "​",
            "_view_module": "@jupyter-widgets/controls",
            "_model_module_version": "1.5.0",
            "value": "Select your piano",
            "_view_count": null,
            "_view_module_version": "1.5.0",
            "description_tooltip": null,
            "_model_module": "@jupyter-widgets/controls",
            "layout": "IPY_MODEL_cb572c7d5e5f4699a4cb9fb5c9fe1262"
          }
        },
        "cf41c8bc3f0d44ce91f8be4d12a8a363": {
          "model_module": "@jupyter-widgets/controls",
          "model_name": "FileUploadModel",
          "state": {
            "_view_name": "FileUploadView",
            "_counter": 1,
            "style": "IPY_MODEL_5fd4e0bf901a4d34a445a9953ff811e4",
            "_dom_classes": [],
            "description": "Upload",
            "multiple": false,
            "_model_name": "FileUploadModel",
            "data": [
              null
            ],
            "button_style": "",
            "_view_module": "@jupyter-widgets/controls",
            "_model_module_version": "1.5.0",
            "accept": "",
            "_view_count": null,
            "disabled": false,
            "_view_module_version": "1.5.0",
            "error": "",
            "description_tooltip": null,
            "metadata": [
              {
                "name": "00000142.jpg.JPG",
                "type": "image/jpeg",
                "size": 91468,
                "lastModified": 1617374447234
              }
            ],
            "_model_module": "@jupyter-widgets/controls",
            "layout": "IPY_MODEL_79f7931d4d8e4d0d814a35d9cee64c8b",
            "icon": "upload"
          }
        },
        "6b5e9c160fb04009b211a0485a7971b0": {
          "model_module": "@jupyter-widgets/output",
          "model_name": "OutputModel",
          "state": {
            "_view_name": "OutputView",
            "msg_id": "",
            "_dom_classes": [],
            "_model_name": "OutputModel",
            "outputs": [
              {
                "output_type": "display_data",
                "metadata": {
                  "tags": []
                },
                "image/png": "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\n",
                "text/plain": "<PIL.Image.Image image mode=RGB size=128x115 at 0x7FA21EE6C590>"
              }
            ],
            "_view_module": "@jupyter-widgets/output",
            "_model_module_version": "1.0.0",
            "_view_count": null,
            "_view_module_version": "1.0.0",
            "layout": "IPY_MODEL_eca1d8c570f54b48ac0cd09500e0a891",
            "_model_module": "@jupyter-widgets/output"
          }
        },
        "c65fd3f2dda94306b54ce933dd7af3ca": {
          "model_module": "@jupyter-widgets/controls",
          "model_name": "LabelModel",
          "state": {
            "_view_name": "LabelView",
            "style": "IPY_MODEL_89e66181e89642c6bf9882a27c4265a2",
            "_dom_classes": [],
            "description": "",
            "_model_name": "LabelModel",
            "placeholder": "​",
            "_view_module": "@jupyter-widgets/controls",
            "_model_module_version": "1.5.0",
            "value": "Prediction: grand; Probability:  0.5299",
            "_view_count": null,
            "_view_module_version": "1.5.0",
            "description_tooltip": null,
            "_model_module": "@jupyter-widgets/controls",
            "layout": "IPY_MODEL_737a4babe380438495e3eecc35f9a0e7"
          }
        },
        "be62de80837245d0996c6039743a2ab6": {
          "model_module": "@jupyter-widgets/controls",
          "model_name": "DescriptionStyleModel",
          "state": {
            "_view_name": "StyleView",
            "_model_name": "DescriptionStyleModel",
            "description_width": "",
            "_view_module": "@jupyter-widgets/base",
            "_model_module_version": "1.5.0",
            "_view_count": null,
            "_view_module_version": "1.2.0",
            "_model_module": "@jupyter-widgets/controls"
          }
        },
        "cb572c7d5e5f4699a4cb9fb5c9fe1262": {
          "model_module": "@jupyter-widgets/base",
          "model_name": "LayoutModel",
          "state": {
            "_view_name": "LayoutView",
            "grid_template_rows": null,
            "right": null,
            "justify_content": null,
            "_view_module": "@jupyter-widgets/base",
            "overflow": null,
            "_model_module_version": "1.2.0",
            "_view_count": null,
            "flex_flow": null,
            "width": null,
            "min_width": null,
            "border": null,
            "align_items": null,
            "bottom": null,
            "_model_module": "@jupyter-widgets/base",
            "top": null,
            "grid_column": null,
            "overflow_y": null,
            "overflow_x": null,
            "grid_auto_flow": null,
            "grid_area": null,
            "grid_template_columns": null,
            "flex": null,
            "_model_name": "LayoutModel",
            "justify_items": null,
            "grid_row": null,
            "max_height": null,
            "align_content": null,
            "visibility": null,
            "align_self": null,
            "height": null,
            "min_height": null,
            "padding": null,
            "grid_auto_rows": null,
            "grid_gap": null,
            "max_width": null,
            "order": null,
            "_view_module_version": "1.2.0",
            "grid_template_areas": null,
            "object_position": null,
            "object_fit": null,
            "grid_auto_columns": null,
            "margin": null,
            "display": null,
            "left": null
          }
        },
        "5fd4e0bf901a4d34a445a9953ff811e4": {
          "model_module": "@jupyter-widgets/controls",
          "model_name": "ButtonStyleModel",
          "state": {
            "_view_name": "StyleView",
            "_model_name": "ButtonStyleModel",
            "_view_module": "@jupyter-widgets/base",
            "_model_module_version": "1.5.0",
            "_view_count": null,
            "button_color": null,
            "font_weight": "",
            "_view_module_version": "1.2.0",
            "_model_module": "@jupyter-widgets/controls"
          }
        },
        "79f7931d4d8e4d0d814a35d9cee64c8b": {
          "model_module": "@jupyter-widgets/base",
          "model_name": "LayoutModel",
          "state": {
            "_view_name": "LayoutView",
            "grid_template_rows": null,
            "right": null,
            "justify_content": null,
            "_view_module": "@jupyter-widgets/base",
            "overflow": null,
            "_model_module_version": "1.2.0",
            "_view_count": null,
            "flex_flow": null,
            "width": null,
            "min_width": null,
            "border": null,
            "align_items": null,
            "bottom": null,
            "_model_module": "@jupyter-widgets/base",
            "top": null,
            "grid_column": null,
            "overflow_y": null,
            "overflow_x": null,
            "grid_auto_flow": null,
            "grid_area": null,
            "grid_template_columns": null,
            "flex": null,
            "_model_name": "LayoutModel",
            "justify_items": null,
            "grid_row": null,
            "max_height": null,
            "align_content": null,
            "visibility": null,
            "align_self": null,
            "height": null,
            "min_height": null,
            "padding": null,
            "grid_auto_rows": null,
            "grid_gap": null,
            "max_width": null,
            "order": null,
            "_view_module_version": "1.2.0",
            "grid_template_areas": null,
            "object_position": null,
            "object_fit": null,
            "grid_auto_columns": null,
            "margin": null,
            "display": null,
            "left": null
          }
        },
        "89e66181e89642c6bf9882a27c4265a2": {
          "model_module": "@jupyter-widgets/controls",
          "model_name": "DescriptionStyleModel",
          "state": {
            "_view_name": "StyleView",
            "_model_name": "DescriptionStyleModel",
            "description_width": "",
            "_view_module": "@jupyter-widgets/base",
            "_model_module_version": "1.5.0",
            "_view_count": null,
            "_view_module_version": "1.2.0",
            "_model_module": "@jupyter-widgets/controls"
          }
        },
        "737a4babe380438495e3eecc35f9a0e7": {
          "model_module": "@jupyter-widgets/base",
          "model_name": "LayoutModel",
          "state": {
            "_view_name": "LayoutView",
            "grid_template_rows": null,
            "right": null,
            "justify_content": null,
            "_view_module": "@jupyter-widgets/base",
            "overflow": null,
            "_model_module_version": "1.2.0",
            "_view_count": null,
            "flex_flow": null,
            "width": null,
            "min_width": null,
            "border": null,
            "align_items": null,
            "bottom": null,
            "_model_module": "@jupyter-widgets/base",
            "top": null,
            "grid_column": null,
            "overflow_y": null,
            "overflow_x": null,
            "grid_auto_flow": null,
            "grid_area": null,
            "grid_template_columns": null,
            "flex": null,
            "_model_name": "LayoutModel",
            "justify_items": null,
            "grid_row": null,
            "max_height": null,
            "align_content": null,
            "visibility": null,
            "align_self": null,
            "height": null,
            "min_height": null,
            "padding": null,
            "grid_auto_rows": null,
            "grid_gap": null,
            "max_width": null,
            "order": null,
            "_view_module_version": "1.2.0",
            "grid_template_areas": null,
            "object_position": null,
            "object_fit": null,
            "grid_auto_columns": null,
            "margin": null,
            "display": null,
            "left": null
          }
        },
        "eca1d8c570f54b48ac0cd09500e0a891": {
          "model_module": "@jupyter-widgets/base",
          "model_name": "LayoutModel",
          "state": {
            "_view_name": "LayoutView",
            "grid_template_rows": null,
            "right": null,
            "justify_content": null,
            "_view_module": "@jupyter-widgets/base",
            "overflow": null,
            "_model_module_version": "1.2.0",
            "_view_count": null,
            "flex_flow": null,
            "width": null,
            "min_width": null,
            "border": null,
            "align_items": null,
            "bottom": null,
            "_model_module": "@jupyter-widgets/base",
            "top": null,
            "grid_column": null,
            "overflow_y": null,
            "overflow_x": null,
            "grid_auto_flow": null,
            "grid_area": null,
            "grid_template_columns": null,
            "flex": null,
            "_model_name": "LayoutModel",
            "justify_items": null,
            "grid_row": null,
            "max_height": null,
            "align_content": null,
            "visibility": null,
            "align_self": null,
            "height": null,
            "min_height": null,
            "padding": null,
            "grid_auto_rows": null,
            "grid_gap": null,
            "max_width": null,
            "order": null,
            "_view_module_version": "1.2.0",
            "grid_template_areas": null,
            "object_position": null,
            "object_fit": null,
            "grid_auto_columns": null,
            "margin": null,
            "display": null,
            "left": null
          }
        }
      }
    }
  },
  "cells": [
    {
      "cell_type": "markdown",
      "metadata": {
        "id": "view-in-github",
        "colab_type": "text"
      },
      "source": [
        "<a href=\"https://colab.research.google.com/github/BellaZeng2019/pianoclassifier/blob/master/pianoclassifier_prod.ipynb\" target=\"_parent\"><img src=\"https://colab.research.google.com/assets/colab-badge.svg\" alt=\"Open In Colab\"/></a>"
      ]
    },
    {
      "cell_type": "code",
      "metadata": {
        "id": "5Kea6QQmnw39"
      },
      "source": [
        "#hide\n",
        "!pip install -Uqq fastbook\n",
        "!pip install torchtext==0.8.1\n",
        "import fastbook\n",
        "fastbook.setup_book()\n",
        "\n",
        "from fastbook import *"
      ],
      "execution_count": null,
      "outputs": []
    },
    {
      "cell_type": "code",
      "metadata": {
        "id": "GssvrYaHMd95"
      },
      "source": [
        "from fastai.vision.all import *\n",
        "from fastai.vision.widgets import *"
      ],
      "execution_count": 2,
      "outputs": []
    },
    {
      "cell_type": "code",
      "metadata": {
        "id": "xfemxfUbnn_i"
      },
      "source": [
        ""
      ],
      "execution_count": null,
      "outputs": []
    },
    {
      "cell_type": "markdown",
      "metadata": {
        "id": "Wv4U_aHfNORT"
      },
      "source": [
        "# The Piano Classifier\n",
        "Upright pianos: Upright pianos are generally 48” and over. These\n",
        "pianos are the choice of players looking for grand piano type sound without taking up as much space.\n",
        "\n",
        "---\n",
        "\n",
        "\n",
        "Grand pianos: Grand pianos are characterized by the way they are constructed. The strings and soundboard lay horizontally and the hammer that strikes the string swings up and then falls back to rest. Grand pianos generally offer more sound projection and faster key repetition than vertical pianos.\n",
        "\n",
        "\n",
        "---\n",
        "Digital pianos: Digital pianos come in many styles. From slim upright designs to a range of grand piano sizes, there is a digital for most price points and feature needs.\n",
        "High quality digital pianos offer a tremendous value with progressive hammer actions which require no regulating and concert grand quality sound without tuning.\n",
        "Digital pianos also offer other features for education, variety of voices, customizable piano sounds, and the ability to control the volume or even wear headphones.\n",
        "\n"
      ]
    },
    {
      "cell_type": "code",
      "metadata": {
        "id": "FOD6wDFnNDsl",
        "colab": {
          "base_uri": "https://localhost:8080/"
        },
        "outputId": "e6b007bd-622f-4ae9-9747-222cfa295ba0"
      },
      "source": [
        "#hide\n",
        "%cd gdrive/MyDrive/Colab\\ Notebooks/fastai_exercises"
      ],
      "execution_count": 5,
      "outputs": [
        {
          "output_type": "stream",
          "text": [
            "/content/gdrive/MyDrive/Colab Notebooks/fastai_exercises\n"
          ],
          "name": "stdout"
        }
      ]
    },
    {
      "cell_type": "code",
      "metadata": {
        "id": "3kwjaMqPOVAJ"
      },
      "source": [
        "path=Path()\n",
        "learn_inf = load_learner(path/'export.pkl', cpu=True)\n",
        "btn_upload = widgets.FileUpload()\n",
        "out_pl = widgets.Output()\n",
        "lbl_pred = widgets.Label()"
      ],
      "execution_count": 6,
      "outputs": []
    },
    {
      "cell_type": "code",
      "metadata": {
        "id": "bGITVaW0PC5i"
      },
      "source": [
        "def on_click(change):\n",
        "  img = PILImage.create(btn_upload.data[-1])\n",
        "  out_pl.clear_output()\n",
        "  with out_pl: display(img.to_thumb(128,128))\n",
        "  pred,pred_idx, probs = learn_inf.predict(img)\n",
        "  lbl_pred.value=f'Prediction: {pred}; Probability: {probs[pred_idx]: 0.04f}'"
      ],
      "execution_count": 7,
      "outputs": []
    },
    {
      "cell_type": "code",
      "metadata": {
        "id": "58Jpl7MdP_9C"
      },
      "source": [
        "btn_upload.observe(on_click, names=['data'])"
      ],
      "execution_count": 8,
      "outputs": []
    },
    {
      "cell_type": "code",
      "metadata": {
        "colab": {
          "base_uri": "https://localhost:8080/",
          "height": 228,
          "referenced_widgets": [
            "a6f56f65d8b24dbf83e44c3b33023c01",
            "46993136e5f34d80932eb79aa6d2e840",
            "2d2f2ccf265946998b279601dec24918",
            "cf41c8bc3f0d44ce91f8be4d12a8a363",
            "6b5e9c160fb04009b211a0485a7971b0",
            "c65fd3f2dda94306b54ce933dd7af3ca",
            "be62de80837245d0996c6039743a2ab6",
            "cb572c7d5e5f4699a4cb9fb5c9fe1262",
            "5fd4e0bf901a4d34a445a9953ff811e4",
            "79f7931d4d8e4d0d814a35d9cee64c8b",
            "89e66181e89642c6bf9882a27c4265a2",
            "737a4babe380438495e3eecc35f9a0e7",
            "eca1d8c570f54b48ac0cd09500e0a891"
          ]
        },
        "id": "a3gPQdrUQPFa",
        "outputId": "5b6c0bdd-e6c8-4769-abb7-47731a70a845"
      },
      "source": [
        "display(VBox([widgets.Label('Select your piano'), btn_upload, out_pl, lbl_pred]))"
      ],
      "execution_count": 9,
      "outputs": [
        {
          "output_type": "display_data",
          "data": {
            "application/vnd.jupyter.widget-view+json": {
              "model_id": "a6f56f65d8b24dbf83e44c3b33023c01",
              "version_minor": 0,
              "version_major": 2
            },
            "text/plain": [
              "VBox(children=(Label(value='Select your piano'), FileUpload(value={}, description='Upload'), Output(), Label(v…"
            ]
          },
          "metadata": {
            "tags": []
          }
        },
        {
          "output_type": "display_data",
          "data": {
            "text/html": [
              ""
            ],
            "text/plain": [
              "<IPython.core.display.HTML object>"
            ]
          },
          "metadata": {
            "tags": []
          }
        }
      ]
    },
    {
      "cell_type": "code",
      "metadata": {
        "id": "d8RGsauNQf4_"
      },
      "source": [
        ""
      ],
      "execution_count": null,
      "outputs": []
    },
    {
      "cell_type": "code",
      "metadata": {
        "id": "wFaDWY3-SkML"
      },
      "source": [
        ""
      ],
      "execution_count": null,
      "outputs": []
    }
  ]
}